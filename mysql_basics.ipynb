{
 "cells": [
  {
   "cell_type": "code",
   "execution_count": 26,
   "id": "83cfeb19-b724-4a09-8cb6-7516619f1557",
   "metadata": {},
   "outputs": [
    {
     "data": {
      "text/plain": [
       "['.Rhistory',\n",
       " 'requirements.txt',\n",
       " 'mysql_basics.ipynb',\n",
       " 'README.md',\n",
       " '.env',\n",
       " 'mysql_sqlalchemy.ipynb',\n",
       " '.git']"
      ]
     },
     "execution_count": 26,
     "metadata": {},
     "output_type": "execute_result"
    }
   ],
   "source": [
    "import pandas as pd\n",
    "import numpy as np\n",
    "from pandasql import sqldf\n",
    "\n",
    "\n",
    "from IPython.display import display\n",
    "pd.options.display.max_columns = None\n",
    "pd.options.display.max_rows = 30\n",
    "pd.get_option(\"display.max_rows\")\n",
    "#pd.set_option('display.max_rows', 100)\n",
    "\n",
    "import mysql.connector # pip install mysql-connector-python\n",
    "\n",
    "\n",
    "import os\n",
    "from dotenv import load_dotenv\n",
    "\n",
    "load_dotenv()  # Load environment variables from .env file\n",
    "\n",
    "my_host = os.getenv(\"my_host\")\n",
    "my_user = os.getenv(\"my_user\")\n",
    "my_pswd = os.getenv(\"my_pswd\")\n",
    "\n",
    "os.listdir()"
   ]
  },
  {
   "cell_type": "markdown",
   "id": "604c35bf-49be-44b1-8897-97e002240a30",
   "metadata": {},
   "source": [
    "### Connect to MYSQL server:\n",
    "* https://www.datacamp.com/tutorial/tutorial-how-to-execute-sql-queries-in-r-and-python\n",
    "* https://www.w3schools.com/mysql/default.asp"
   ]
  },
  {
   "cell_type": "code",
   "execution_count": 7,
   "id": "f7f41711-f2cf-4ccc-9db1-d2fb2be43b02",
   "metadata": {},
   "outputs": [
    {
     "name": "stdout",
     "output_type": "stream",
     "text": [
      "('db_rizal',)\n",
      "('information_schema',)\n",
      "('mysql',)\n",
      "('performance_schema',)\n",
      "('sys',)\n"
     ]
    }
   ],
   "source": [
    "mydb = mysql.connector.connect(\n",
    "    host= my_host\n",
    "    ,user= my_user\n",
    "    ,passwd= my_pswd\n",
    "    \n",
    ")\n",
    "\n",
    "mycursor = mydb.cursor()\n",
    "\n",
    "mycursor.execute(\"SHOW DATABASES\")\n",
    "\n",
    "for x in mycursor:\n",
    "  print(x)\n",
    "\n",
    "mycursor.close()\n",
    "mydb.close()"
   ]
  },
  {
   "cell_type": "markdown",
   "id": "07468b33-f3c5-4b9a-b0d2-a69836b0b5f6",
   "metadata": {},
   "source": [
    "### Connect to DB:"
   ]
  },
  {
   "cell_type": "code",
   "execution_count": 8,
   "id": "6f2fc9bd",
   "metadata": {},
   "outputs": [
    {
     "name": "stdout",
     "output_type": "stream",
     "text": [
      "('employees',)\n",
      "('employees_v2',)\n",
      "('players',)\n",
      "('studentinfo',)\n",
      "('tbl_players',)\n",
      "('tbl_players_v2',)\n",
      "('tbl_test',)\n",
      "('tmp_count',)\n",
      "('tmp_freq',)\n"
     ]
    }
   ],
   "source": [
    "mydb = mysql.connector.connect(\n",
    "        host= my_host\n",
    "        ,user= my_user\n",
    "        ,passwd= my_pswd\n",
    "        ,database=\"db_rizal\"\n",
    "        )\n",
    "\n",
    "mycursor = mydb.cursor()\n",
    "\n",
    "\n",
    "mycursor.execute(\"SHOW tables\")\n",
    "\n",
    "for x in mycursor:\n",
    "    print(x)"
   ]
  },
  {
   "cell_type": "markdown",
   "id": "270965c4-b727-4927-97c2-62fc8e5f6c95",
   "metadata": {},
   "source": [
    "### DROP & CREATE NEW TABLE:\n",
    "* primary key are index by default"
   ]
  },
  {
   "cell_type": "code",
   "execution_count": 9,
   "id": "2ceda2e7-64f5-4d5a-bcfd-e74cc8afd334",
   "metadata": {},
   "outputs": [],
   "source": [
    "mycursor.execute(\"\"\"DROP TABLE studentinfo;\"\"\")"
   ]
  },
  {
   "cell_type": "code",
   "execution_count": 10,
   "id": "9a2a5bc1",
   "metadata": {},
   "outputs": [],
   "source": [
    "qry = \"\"\"\n",
    "       \n",
    "       CREATE TABLE studentinfo\n",
    "            (\n",
    "            id INT AUTO_INCREMENT PRIMARY KEY,\n",
    "            name varchar(255) NOT NULL,\n",
    "            subject varchar(255) NOT NULL\n",
    "            )\n",
    "        \"\"\"\n",
    "\n",
    "mycursor.execute(qry)"
   ]
  },
  {
   "cell_type": "markdown",
   "id": "8864f356-13de-40f3-87eb-b00f2013c44a",
   "metadata": {},
   "source": [
    "### INSERT INTO :"
   ]
  },
  {
   "cell_type": "code",
   "execution_count": 11,
   "id": "388cc1d4-8328-4f05-9d99-959a49d7adeb",
   "metadata": {},
   "outputs": [],
   "source": [
    "### insert 1 row:\n",
    "qry = \"\"\"\n",
    "            INSERT INTO studentinfo (name, subject)\n",
    "            VALUES ('Marry','Math' )\n",
    "        \"\"\"\n",
    "mycursor.execute(qry)"
   ]
  },
  {
   "cell_type": "code",
   "execution_count": 12,
   "id": "07d0f04c-f6bd-4698-bce2-1689d0aadb35",
   "metadata": {},
   "outputs": [],
   "source": [
    "### insert multiple rows:\n",
    "\n",
    "qry = \"\"\"\n",
    "        INSERT INTO studentinfo (name, subject)\n",
    "        VALUES \n",
    "        (\"Abid\", \"Stat\"),\n",
    "        (\"Carry\", \"Math\"),\n",
    "        (\"Ali\",\"Data Science\"),\n",
    "        (\"Nisha\",\"Data Science\"),\n",
    "        (\"Matthew\",\"Math\"),\n",
    "        (\"Henry\",\"Data Science\")\n",
    "      \"\"\"\n",
    "\n",
    "mycursor.execute(qry)"
   ]
  },
  {
   "cell_type": "code",
   "execution_count": 13,
   "id": "a3fa1863-801d-4b67-98d9-d602bf41a0ff",
   "metadata": {},
   "outputs": [
    {
     "data": {
      "text/plain": [
       "[(1, 'Marry', 'Math'),\n",
       " (2, 'Abid', 'Stat'),\n",
       " (3, 'Carry', 'Math'),\n",
       " (4, 'Ali', 'Data Science'),\n",
       " (5, 'Nisha', 'Data Science'),\n",
       " (6, 'Matthew', 'Math'),\n",
       " (7, 'Henry', 'Data Science')]"
      ]
     },
     "execution_count": 13,
     "metadata": {},
     "output_type": "execute_result"
    }
   ],
   "source": [
    "# verify data exist temporarily \n",
    "mycursor.execute(\"\"\"SELECT * FROM studentinfo\"\"\")\n",
    "mycursor.fetchall()"
   ]
  },
  {
   "cell_type": "code",
   "execution_count": null,
   "id": "7a185f79-d545-4048-8640-7b6fd59b49a1",
   "metadata": {},
   "outputs": [],
   "source": []
  },
  {
   "cell_type": "markdown",
   "id": "cfcb5b4a-ad49-4077-affa-42e637b58af1",
   "metadata": {},
   "source": [
    "### CREATE UNIQUE INDEX:\n",
    "* Creates a unique index on a table. Duplicate values are not allowed"
   ]
  },
  {
   "cell_type": "code",
   "execution_count": 14,
   "id": "74ccc4eb-513b-43d7-867d-2177fb84d983",
   "metadata": {},
   "outputs": [],
   "source": [
    "qry = \"\"\"\n",
    "        CREATE UNIQUE INDEX idx_name\n",
    "        ON studentinfo (name);\n",
    "      \"\"\"\n",
    "\n",
    "mycursor.execute(qry)"
   ]
  },
  {
   "cell_type": "markdown",
   "id": "d38a6b33-4f79-4e24-941e-d3b831cf49b9",
   "metadata": {},
   "source": [
    "### CREATE INDEX:\n",
    "* Generally, it's more efficient to create indexes in MySQL after data insertion, especially for large datasets."
   ]
  },
  {
   "cell_type": "code",
   "execution_count": 15,
   "id": "3dd8d3d4-dae7-49b3-8afc-9c44c8e16bf1",
   "metadata": {},
   "outputs": [],
   "source": [
    "# on single column\n",
    "qry = \"\"\" \n",
    "        CREATE INDEX idx_subject\n",
    "        ON studentinfo (subject);\n",
    "        \"\"\"\n",
    "mycursor.execute(qry)"
   ]
  },
  {
   "cell_type": "code",
   "execution_count": 16,
   "id": "c4182349-a97b-4c03-9821-194f68f09520",
   "metadata": {},
   "outputs": [],
   "source": [
    "# on combine columns\n",
    "qry = \"\"\"\n",
    "        CREATE INDEX idx_name_subject\n",
    "        ON studentinfo (name, subject);\n",
    "\n",
    "\"\"\"\n",
    "mycursor.execute(qry)"
   ]
  },
  {
   "cell_type": "code",
   "execution_count": null,
   "id": "39e6fb9f-a5e7-4949-acd4-5b0c7c0571de",
   "metadata": {},
   "outputs": [],
   "source": []
  },
  {
   "cell_type": "markdown",
   "id": "27dc7311-7f21-4e77-b43b-fb7255821228",
   "metadata": {},
   "source": [
    "### Save data in DB:\n",
    "* Without a commit, the data will be lost after the machine restarts."
   ]
  },
  {
   "cell_type": "code",
   "execution_count": 17,
   "id": "34d8a88c-c992-4708-b94b-a82a29c88e67",
   "metadata": {},
   "outputs": [],
   "source": [
    "#mydb.commit()"
   ]
  },
  {
   "cell_type": "code",
   "execution_count": null,
   "id": "a7b9bac0-89ed-4e66-ba2e-98f7b322a0a8",
   "metadata": {},
   "outputs": [],
   "source": []
  },
  {
   "cell_type": "markdown",
   "id": "7ec8d0a8",
   "metadata": {},
   "source": [
    "### Download tables from sql qry:"
   ]
  },
  {
   "cell_type": "code",
   "execution_count": 18,
   "id": "8f34a2ad-c307-4c39-ab02-530c5b16d40e",
   "metadata": {},
   "outputs": [
    {
     "name": "stdout",
     "output_type": "stream",
     "text": [
      "(7, 3)\n"
     ]
    },
    {
     "name": "stderr",
     "output_type": "stream",
     "text": [
      "/var/folders/_q/ktfjns2n4_l9c5_kj8k08w540000gn/T/ipykernel_6477/2277355563.py:1: UserWarning: pandas only supports SQLAlchemy connectable (engine/connection) or database string URI or sqlite3 DBAPI2 connection. Other DBAPI2 objects are not tested. Please consider using SQLAlchemy.\n",
      "  df = pd.read_sql(\"\"\" SELECT * FROM  studentinfo\"\"\",mydb)\n"
     ]
    },
    {
     "data": {
      "text/html": [
       "<div>\n",
       "<style scoped>\n",
       "    .dataframe tbody tr th:only-of-type {\n",
       "        vertical-align: middle;\n",
       "    }\n",
       "\n",
       "    .dataframe tbody tr th {\n",
       "        vertical-align: top;\n",
       "    }\n",
       "\n",
       "    .dataframe thead th {\n",
       "        text-align: right;\n",
       "    }\n",
       "</style>\n",
       "<table border=\"1\" class=\"dataframe\">\n",
       "  <thead>\n",
       "    <tr style=\"text-align: right;\">\n",
       "      <th></th>\n",
       "      <th>id</th>\n",
       "      <th>name</th>\n",
       "      <th>subject</th>\n",
       "    </tr>\n",
       "  </thead>\n",
       "  <tbody>\n",
       "    <tr>\n",
       "      <th>0</th>\n",
       "      <td>2</td>\n",
       "      <td>Abid</td>\n",
       "      <td>Stat</td>\n",
       "    </tr>\n",
       "    <tr>\n",
       "      <th>1</th>\n",
       "      <td>4</td>\n",
       "      <td>Ali</td>\n",
       "      <td>Data Science</td>\n",
       "    </tr>\n",
       "    <tr>\n",
       "      <th>2</th>\n",
       "      <td>3</td>\n",
       "      <td>Carry</td>\n",
       "      <td>Math</td>\n",
       "    </tr>\n",
       "    <tr>\n",
       "      <th>3</th>\n",
       "      <td>7</td>\n",
       "      <td>Henry</td>\n",
       "      <td>Data Science</td>\n",
       "    </tr>\n",
       "    <tr>\n",
       "      <th>4</th>\n",
       "      <td>1</td>\n",
       "      <td>Marry</td>\n",
       "      <td>Math</td>\n",
       "    </tr>\n",
       "    <tr>\n",
       "      <th>5</th>\n",
       "      <td>6</td>\n",
       "      <td>Matthew</td>\n",
       "      <td>Math</td>\n",
       "    </tr>\n",
       "    <tr>\n",
       "      <th>6</th>\n",
       "      <td>5</td>\n",
       "      <td>Nisha</td>\n",
       "      <td>Data Science</td>\n",
       "    </tr>\n",
       "  </tbody>\n",
       "</table>\n",
       "</div>"
      ],
      "text/plain": [
       "   id     name       subject\n",
       "0   2     Abid          Stat\n",
       "1   4      Ali  Data Science\n",
       "2   3    Carry          Math\n",
       "3   7    Henry  Data Science\n",
       "4   1    Marry          Math\n",
       "5   6  Matthew          Math\n",
       "6   5    Nisha  Data Science"
      ]
     },
     "execution_count": 18,
     "metadata": {},
     "output_type": "execute_result"
    }
   ],
   "source": [
    "df = pd.read_sql(\"\"\" SELECT * FROM  studentinfo\"\"\",mydb)\n",
    "\n",
    "print(df.shape)\n",
    "df"
   ]
  },
  {
   "cell_type": "code",
   "execution_count": 19,
   "id": "b7239169-183a-4062-bd58-9b2d2fe75983",
   "metadata": {},
   "outputs": [
    {
     "name": "stdout",
     "output_type": "stream",
     "text": [
      "(7, 3)\n"
     ]
    },
    {
     "data": {
      "text/html": [
       "<div>\n",
       "<style scoped>\n",
       "    .dataframe tbody tr th:only-of-type {\n",
       "        vertical-align: middle;\n",
       "    }\n",
       "\n",
       "    .dataframe tbody tr th {\n",
       "        vertical-align: top;\n",
       "    }\n",
       "\n",
       "    .dataframe thead th {\n",
       "        text-align: right;\n",
       "    }\n",
       "</style>\n",
       "<table border=\"1\" class=\"dataframe\">\n",
       "  <thead>\n",
       "    <tr style=\"text-align: right;\">\n",
       "      <th></th>\n",
       "      <th>id</th>\n",
       "      <th>name</th>\n",
       "      <th>subject</th>\n",
       "    </tr>\n",
       "  </thead>\n",
       "  <tbody>\n",
       "    <tr>\n",
       "      <th>0</th>\n",
       "      <td>1</td>\n",
       "      <td>Marry</td>\n",
       "      <td>Math</td>\n",
       "    </tr>\n",
       "    <tr>\n",
       "      <th>1</th>\n",
       "      <td>2</td>\n",
       "      <td>Abid</td>\n",
       "      <td>Stat</td>\n",
       "    </tr>\n",
       "    <tr>\n",
       "      <th>2</th>\n",
       "      <td>3</td>\n",
       "      <td>Carry</td>\n",
       "      <td>Math</td>\n",
       "    </tr>\n",
       "    <tr>\n",
       "      <th>3</th>\n",
       "      <td>4</td>\n",
       "      <td>Ali</td>\n",
       "      <td>Data Science</td>\n",
       "    </tr>\n",
       "    <tr>\n",
       "      <th>4</th>\n",
       "      <td>5</td>\n",
       "      <td>Nisha</td>\n",
       "      <td>Data Science</td>\n",
       "    </tr>\n",
       "    <tr>\n",
       "      <th>5</th>\n",
       "      <td>6</td>\n",
       "      <td>Matthew</td>\n",
       "      <td>Math</td>\n",
       "    </tr>\n",
       "    <tr>\n",
       "      <th>6</th>\n",
       "      <td>7</td>\n",
       "      <td>Henry</td>\n",
       "      <td>Data Science</td>\n",
       "    </tr>\n",
       "  </tbody>\n",
       "</table>\n",
       "</div>"
      ],
      "text/plain": [
       "   id     name       subject\n",
       "0   1    Marry          Math\n",
       "1   2     Abid          Stat\n",
       "2   3    Carry          Math\n",
       "3   4      Ali  Data Science\n",
       "4   5    Nisha  Data Science\n",
       "5   6  Matthew          Math\n",
       "6   7    Henry  Data Science"
      ]
     },
     "execution_count": 19,
     "metadata": {},
     "output_type": "execute_result"
    }
   ],
   "source": [
    "table_name = \"studentinfo\"\n",
    "\n",
    "mycursor.execute(f\"SELECT * FROM {table_name} ORDER BY id\")\n",
    "\n",
    "#print(mycursor.description)\n",
    "\n",
    "df = pd.DataFrame(mycursor.fetchall()\n",
    "                  ,columns=[i[0] for i in mycursor.description]\n",
    "                 )\n",
    "\n",
    "\n",
    "print(df.shape)\n",
    "df"
   ]
  },
  {
   "cell_type": "code",
   "execution_count": null,
   "id": "6dee88fa-2d1c-4e1d-a438-e8260295dfc9",
   "metadata": {},
   "outputs": [],
   "source": []
  },
  {
   "cell_type": "code",
   "execution_count": 20,
   "id": "0741e8ff-8efc-42a0-9104-b9d627ca147f",
   "metadata": {},
   "outputs": [
    {
     "data": {
      "text/html": [
       "<div>\n",
       "<style scoped>\n",
       "    .dataframe tbody tr th:only-of-type {\n",
       "        vertical-align: middle;\n",
       "    }\n",
       "\n",
       "    .dataframe tbody tr th {\n",
       "        vertical-align: top;\n",
       "    }\n",
       "\n",
       "    .dataframe thead th {\n",
       "        text-align: right;\n",
       "    }\n",
       "</style>\n",
       "<table border=\"1\" class=\"dataframe\">\n",
       "  <thead>\n",
       "    <tr style=\"text-align: right;\">\n",
       "      <th></th>\n",
       "      <th>subject</th>\n",
       "      <th>FREQ</th>\n",
       "    </tr>\n",
       "  </thead>\n",
       "  <tbody>\n",
       "    <tr>\n",
       "      <th>0</th>\n",
       "      <td>Data Science</td>\n",
       "      <td>3</td>\n",
       "    </tr>\n",
       "    <tr>\n",
       "      <th>1</th>\n",
       "      <td>Math</td>\n",
       "      <td>3</td>\n",
       "    </tr>\n",
       "    <tr>\n",
       "      <th>2</th>\n",
       "      <td>Stat</td>\n",
       "      <td>1</td>\n",
       "    </tr>\n",
       "  </tbody>\n",
       "</table>\n",
       "</div>"
      ],
      "text/plain": [
       "        subject  FREQ\n",
       "0  Data Science     3\n",
       "1          Math     3\n",
       "2          Stat     1"
      ]
     },
     "execution_count": 20,
     "metadata": {},
     "output_type": "execute_result"
    }
   ],
   "source": [
    "sqldf(\"\"\"SELECT \n",
    "        subject\n",
    "        ,COUNT(1) AS FREQ\n",
    "        FROM df\n",
    "        GROUP BY subject\n",
    "        \"\"\",locals())"
   ]
  },
  {
   "cell_type": "code",
   "execution_count": null,
   "id": "8edd53f3-e53c-4e0a-88f7-62e36d1b4b6f",
   "metadata": {},
   "outputs": [],
   "source": []
  },
  {
   "cell_type": "code",
   "execution_count": 21,
   "id": "4982120d-97d4-4848-b0fd-884448e8dc9a",
   "metadata": {},
   "outputs": [
    {
     "data": {
      "text/plain": [
       "[('Data Science', 3), ('Math', 3), ('Stat', 1)]"
      ]
     },
     "execution_count": 21,
     "metadata": {},
     "output_type": "execute_result"
    }
   ],
   "source": [
    "qry = \"\"\" \n",
    "        SELECT \n",
    "        subject\n",
    "        ,COUNT(1) AS FREQ\n",
    "        FROM studentinfo\n",
    "        GROUP BY subject\n",
    "       \"\"\"\n",
    "\n",
    "mycursor.execute(qry)\n",
    "mycursor.fetchall()"
   ]
  },
  {
   "cell_type": "code",
   "execution_count": 22,
   "id": "a0c6d1a7-5ce8-4578-8403-9891311fd5f3",
   "metadata": {},
   "outputs": [
    {
     "name": "stdout",
     "output_type": "stream",
     "text": [
      "('employees',)\n",
      "('employees_v2',)\n",
      "('players',)\n",
      "('studentinfo',)\n",
      "('tbl_players',)\n",
      "('tbl_players_v2',)\n",
      "('tbl_test',)\n",
      "('tmp_count',)\n"
     ]
    }
   ],
   "source": [
    "mycursor.execute(\"\"\"DROP TABLE IF EXISTS tmp_freq ; \"\"\")\n",
    "\n",
    "\n",
    "mycursor.execute(\"SHOW tables\")\n",
    "\n",
    "for x in mycursor:\n",
    "    print(x)"
   ]
  },
  {
   "cell_type": "code",
   "execution_count": 23,
   "id": "b76a231a-8b5d-4b29-a4c5-614406d3d4aa",
   "metadata": {},
   "outputs": [],
   "source": [
    "qry = \"\"\" \n",
    "    CREATE TABLE tmp_freq AS\n",
    "            SELECT \n",
    "            subject\n",
    "            ,COUNT(1) AS FREQ\n",
    "            FROM studentinfo\n",
    "            GROUP BY subject\n",
    "    \"\"\"\n",
    "mycursor.execute(qry)\n",
    "#mydb.commit()"
   ]
  },
  {
   "cell_type": "code",
   "execution_count": 24,
   "id": "7c57a370-c79f-4e00-a0e6-410220972602",
   "metadata": {},
   "outputs": [
    {
     "data": {
      "text/plain": [
       "[('Data Science', 3), ('Math', 3), ('Stat', 1)]"
      ]
     },
     "execution_count": 24,
     "metadata": {},
     "output_type": "execute_result"
    }
   ],
   "source": [
    "mycursor.execute(\"\"\" SELECT * FROM tmp_freq \"\"\")\n",
    "mycursor.fetchall()"
   ]
  },
  {
   "cell_type": "code",
   "execution_count": null,
   "id": "574ceb34-d8e9-45e5-87e7-b39073030777",
   "metadata": {},
   "outputs": [],
   "source": []
  },
  {
   "cell_type": "code",
   "execution_count": 25,
   "id": "b7514874-bd2a-4488-ab98-5f70a773ceb1",
   "metadata": {},
   "outputs": [],
   "source": [
    "mycursor.close()\n",
    "mydb.close()"
   ]
  },
  {
   "cell_type": "code",
   "execution_count": null,
   "id": "d8761c18-d6f8-4a4b-9db6-fe10fe806738",
   "metadata": {},
   "outputs": [],
   "source": []
  }
 ],
 "metadata": {
  "kernelspec": {
   "display_name": "Python 3",
   "language": "python",
   "name": "python3"
  },
  "language_info": {
   "codemirror_mode": {
    "name": "ipython",
    "version": 3
   },
   "file_extension": ".py",
   "mimetype": "text/x-python",
   "name": "python",
   "nbconvert_exporter": "python",
   "pygments_lexer": "ipython3",
   "version": "3.12.6"
  }
 },
 "nbformat": 4,
 "nbformat_minor": 5
}
